{
 "cells": [
  {
   "cell_type": "markdown",
   "metadata": {},
   "source": [
    "# Final Exam"
   ]
  },
  {
   "cell_type": "code",
   "execution_count": 1,
   "metadata": {},
   "outputs": [],
   "source": [
    "import numpy as np\n",
    "import sympy as sm\n",
    "from sympy import UnevaluatedExpr as uneval\n",
    "from IPython.display import display, Math\n",
    "from sympy.physics.vector.printing import vlatex"
   ]
  },
  {
   "cell_type": "markdown",
   "metadata": {},
   "source": [
    "## Part 1: Equations of Motion for Simulating Dynamics"
   ]
  },
  {
   "cell_type": "markdown",
   "metadata": {},
   "source": [
    "###  1.1 (3 points) Using the configuration variable q = x1, find the kinetic energy of the system."
   ]
  },
  {
   "cell_type": "code",
   "execution_count": 2,
   "metadata": {},
   "outputs": [],
   "source": [
    "# define variables\n",
    "t = sm.symbols(r't')\n",
    "x1 = sm.symbols(r'x_1', cls=sm.Function)\n",
    "x1 = x1(t)\n",
    "x1d, x1dd = x1.diff(t), x1.diff(t, 2)\n",
    "\n",
    "k1, k2, c, m = sm.symbols(r'k_1 k_2 c m', real=True, positive=True)"
   ]
  },
  {
   "cell_type": "code",
   "execution_count": 3,
   "metadata": {},
   "outputs": [
    {
     "name": "stdout",
     "output_type": "stream",
     "text": [
      "Kinetic energy: \n"
     ]
    },
    {
     "data": {
      "text/latex": [
       "$\\displaystyle K = \\frac{1}{2} m \\dot{x}_{1}^{2}$"
      ],
      "text/plain": [
       "<IPython.core.display.Math object>"
      ]
     },
     "metadata": {},
     "output_type": "display_data"
    }
   ],
   "source": [
    "# define kinetic energy\n",
    "K = uneval(sm.Rational(1,2)) * uneval(m * x1d**2)\n",
    "\n",
    "print('Kinetic energy: ')\n",
    "display(Math(r'K = ' + vlatex(K)))"
   ]
  },
  {
   "cell_type": "markdown",
   "metadata": {},
   "source": [
    "### 1.2 (3 points) Find the potential energy for the system."
   ]
  },
  {
   "cell_type": "code",
   "execution_count": 4,
   "metadata": {},
   "outputs": [
    {
     "name": "stdout",
     "output_type": "stream",
     "text": [
      "Potential energy of spring:\n"
     ]
    },
    {
     "data": {
      "text/latex": [
       "$\\displaystyle V_{spring} = \\frac{k_{1} x_{1}^{2}}{2} + \\frac{k_{2} x_{1}^{4}}{4}$"
      ],
      "text/plain": [
       "<IPython.core.display.Math object>"
      ]
     },
     "metadata": {},
     "output_type": "display_data"
    }
   ],
   "source": [
    "V_spring = sm.Rational(1,2) * k1 * x1**2 + sm.Rational(1,4) * k2 * x1**4\n",
    "\n",
    "print('Potential energy of spring:')\n",
    "display(Math(r'V_{spring} = ' + vlatex(V_spring)))"
   ]
  },
  {
   "cell_type": "code",
   "execution_count": 5,
   "metadata": {},
   "outputs": [
    {
     "name": "stdout",
     "output_type": "stream",
     "text": [
      "Potential energy of mass (sign is negative because x1 points down)\n"
     ]
    },
    {
     "data": {
      "text/latex": [
       "$\\displaystyle P_{mass} = - g m x_{1}$"
      ],
      "text/plain": [
       "<IPython.core.display.Math object>"
      ]
     },
     "metadata": {},
     "output_type": "display_data"
    }
   ],
   "source": [
    "# define other potential energy (ignore offset, assume datum is at equilibrium)\n",
    "g = sm.symbols(r'g', real=True, positive=True)\n",
    "\n",
    "P_mass = m*g*-x1\n",
    "\n",
    "print('Potential energy of mass (sign is negative because x1 points down)')\n",
    "display(Math(r'P_{mass} = ' + vlatex(P_mass)))"
   ]
  },
  {
   "cell_type": "code",
   "execution_count": 6,
   "metadata": {},
   "outputs": [
    {
     "data": {
      "text/latex": [
       "$\\displaystyle P = - g m x_{1} + \\frac{k_{1} x_{1}^{2}}{2} + \\frac{k_{2} x_{1}^{4}}{4}$"
      ],
      "text/plain": [
       "<IPython.core.display.Math object>"
      ]
     },
     "metadata": {},
     "output_type": "display_data"
    }
   ],
   "source": [
    "# find total potential energy\n",
    "P = V_spring + P_mass\n",
    "\n",
    "display(Math(r'P = ' + vlatex(P)))"
   ]
  },
  {
   "cell_type": "markdown",
   "metadata": {},
   "source": [
    "###  1.3 (3 points) Find the Lagrangian $L = K −P$."
   ]
  },
  {
   "cell_type": "code",
   "execution_count": 7,
   "metadata": {},
   "outputs": [
    {
     "data": {
      "text/latex": [
       "$\\displaystyle L = g m x_{1} - \\frac{k_{1} x_{1}^{2}}{2} - \\frac{k_{2} x_{1}^{4}}{4} + \\frac{m \\dot{x}_{1}^{2}}{2}$"
      ],
      "text/plain": [
       "<IPython.core.display.Math object>"
      ]
     },
     "metadata": {},
     "output_type": "display_data"
    }
   ],
   "source": [
    "# Determine the lagrangian\n",
    "L = K - P\n",
    "L = L.simplify()\n",
    "\n",
    "display(Math(r'L = ' + vlatex(L)))"
   ]
  },
  {
   "cell_type": "markdown",
   "metadata": {},
   "source": [
    "###  1.4 (3 points) Find the generalized forces $\\tau - B\\dot q$."
   ]
  },
  {
   "cell_type": "code",
   "execution_count": 8,
   "metadata": {},
   "outputs": [
    {
     "data": {
      "text/latex": [
       "$\\displaystyle \\tau = F, \\quad B \\dot q =b \\dot{x}_{1} + c \\operatorname{sign}{\\left(\\dot{x}_{1} \\right)}$"
      ],
      "text/plain": [
       "<IPython.core.display.Math object>"
      ]
     },
     "metadata": {},
     "output_type": "display_data"
    },
    {
     "name": "stdout",
     "output_type": "stream",
     "text": [
      "Non generalized forces:\n"
     ]
    },
    {
     "data": {
      "text/latex": [
       "$\\displaystyle \\tau - B \\dot q = F - b \\dot{x}_{1} - c \\operatorname{sign}{\\left(\\dot{x}_{1} \\right)}$"
      ],
      "text/plain": [
       "<IPython.core.display.Math object>"
      ]
     },
     "metadata": {},
     "output_type": "display_data"
    }
   ],
   "source": [
    "F, b = sm.symbols(r'F b')\n",
    "\n",
    "f_nonlinearfric = c*sm.sign(x1d)\n",
    "\n",
    "tau = F\n",
    "Bqdot = b*x1d + f_nonlinearfric\n",
    "\n",
    "display(Math(r'\\tau = ' + vlatex(tau) +\\\n",
    "             r', \\quad B \\dot q =' + vlatex(Bqdot)))\n",
    "\n",
    "print('Non generalized forces:')\n",
    "display(Math(r'\\tau - B \\dot q = ' + vlatex(tau - Bqdot)))\n"
   ]
  },
  {
   "cell_type": "markdown",
   "metadata": {},
   "source": [
    "###  1.5 (8 points) Derive the equations of motion using the Euler-Lagrange equations."
   ]
  },
  {
   "cell_type": "code",
   "execution_count": 9,
   "metadata": {},
   "outputs": [],
   "source": [
    "def derive_Lagrangian(L, q, q_dot):\n",
    "    term_1 = (L.diff(q_dot)).diff(t)\n",
    "    term_2 = L.diff(q)\n",
    "    return term_1 - term_2"
   ]
  },
  {
   "cell_type": "code",
   "execution_count": 10,
   "metadata": {},
   "outputs": [
    {
     "name": "stdout",
     "output_type": "stream",
     "text": [
      "Equations of motion derived by Euler-Lagrange:\n"
     ]
    },
    {
     "data": {
      "text/latex": [
       "$\\displaystyle \\text{EOM}:- g m + k_{1} x_{1} + k_{2} x_{1}^{3} + m \\ddot{x}_{1} = F - b \\dot{x}_{1} - c \\operatorname{sign}{\\left(\\dot{x}_{1} \\right)}$"
      ],
      "text/plain": [
       "<IPython.core.display.Math object>"
      ]
     },
     "metadata": {},
     "output_type": "display_data"
    }
   ],
   "source": [
    "# Solve the lagrangian (EL for Euler Lagrange)\n",
    "EL = sm.Eq(derive_Lagrangian(L, x1, x1d), tau - Bqdot)\n",
    "\n",
    "print('Equations of motion derived by Euler-Lagrange:')\n",
    "display(Math(r'\\text{EOM}:' + vlatex(EL)))"
   ]
  },
  {
   "cell_type": "markdown",
   "metadata": {},
   "source": [
    "## Part 2: Models for Control Design"
   ]
  },
  {
   "cell_type": "markdown",
   "metadata": {},
   "source": [
    "The figure below shows a mass on a fixed inclined plane connected to a nonlinear spring and a linear damper and\n",
    " the equation of motion is the following:\n",
    "\n",
    " $$\n",
    "m \\ddot z + k_1 z + k_2 z^3 - \\frac{1}{\\sqrt{2}} m g = F - b \\dot z\n",
    " $$\n",
    "\n",
    " The damping coefficient is $b = 0.1$. The physical parameters of the system are $g = 9.8$ meters per second,\n",
    " $\\theta =45$ degrees, $m = 0.5 kg$, $k_1 = 0.05$, and $k_2 = 0.02$. The input force $F$ is limited to $\\pm 5.0$ Newtons."
   ]
  },
  {
   "attachments": {
    "image.png": {
     "image/png": "[encoded data removed]"
    }
   },
   "cell_type": "markdown",
   "metadata": {},
   "source": [
    "![image.png](attachment:image.png)"
   ]
  },
  {
   "cell_type": "markdown",
   "metadata": {},
   "source": [
    " For this problem, use the following files to implement the simulation: ```finalSim2.py```, ```massDynamics.py```. The\n",
    " objective of this part is to use the equations of motion to find the appropriate models that will be used to\n",
    " design the feedback control strategies. If you CANNOT get the dynamics to work, you can instead use the file\n",
    " “massDynamicsCompiled.py,” but you will take a 10 point deduction by using that file instead of writing your\n",
    " own dynamics for the rest of the exam."
   ]
  },
  {
   "cell_type": "markdown",
   "metadata": {},
   "source": [
    "### 2.1 (3 points) Suppose that the objective is to linearize the system around the equilibrium position $z_e$. Find the associated equilibrium force $F_e$ so that $z_e$ is an equilibrium of the system."
   ]
  },
  {
   "cell_type": "markdown",
   "metadata": {},
   "source": [
    "### 2.2 (6 points) Create a “controller”: \n",
    "(At this point it is mostly just a simulation of the equilibrium conditions) that places a constant force of Fe on the physical system. In the simulation files, set the initial conditions\n",
    " to z(0) = ze and ˙ z(0) = 0 to verify that the equilibrium force is correct. For this problem you may assume\n",
    " that ze = 0. Insert a plot of the output of the system with initial condition z(0) = ze = 0 and an\n",
    " input of Fe in the associated Word document."
   ]
  },
  {
   "cell_type": "markdown",
   "metadata": {},
   "source": [
    "###  (5 points) Linearize the model around the equilibrium $(z_e, F_e)$, for $z_e= 0$ and report your linearized model."
   ]
  },
  {
   "cell_type": "code",
   "execution_count": 15,
   "metadata": {},
   "outputs": [
    {
     "name": "stdout",
     "output_type": "stream",
     "text": [
      "equations of motion\n"
     ]
    },
    {
     "data": {
      "text/latex": [
       "$\\displaystyle - \\frac{\\sqrt{2} g m}{2} + k_{1} z + k_{2} z^{3} + m \\ddot{z} = F - b \\dot{z}$"
      ],
      "text/plain": [
       "<IPython.core.display.Math object>"
      ]
     },
     "metadata": {},
     "output_type": "display_data"
    },
    {
     "name": "stdout",
     "output_type": "stream",
     "text": [
      "solve for F\n"
     ]
    },
    {
     "data": {
      "text/latex": [
       "$\\displaystyle F=b \\dot{z} - \\frac{\\sqrt{2} g m}{2} + k_{1} z + k_{2} z^{3} + m \\ddot{z}$"
      ],
      "text/plain": [
       "<IPython.core.display.Math object>"
      ]
     },
     "metadata": {},
     "output_type": "display_data"
    }
   ],
   "source": [
    "# redefine eom\n",
    "z = sm.symbols(r'z', cls=sm.Function)\n",
    "z = z(t)\n",
    "zd, zdd = z.diff(t), z.diff(t, 2)\n",
    "\n",
    "eom = sm.Eq(m*zdd + k1*z + k2*z**3 - 1/sm.sqrt(2) * m*g, F - b*zd)\n",
    "print('equations of motion')\n",
    "display(Math(vlatex(eom)))\n",
    "\n",
    "print('solve for F')\n",
    "eom_F = sm.solve(eom, F)[0]\n",
    "display(Math(r'F=' + vlatex(eom_F)))"
   ]
  },
  {
   "cell_type": "markdown",
   "metadata": {},
   "source": [
    "Taylor series approximaiton:\n",
    "\n",
    "$$\n",
    "g(w) \\approx g(w_0) + \\frac{\\partial g}{\\partial w} \\bigg|_{w_0} (w - w_0)\n",
    "$$"
   ]
  },
  {
   "cell_type": "code",
   "execution_count": 24,
   "metadata": {},
   "outputs": [
    {
     "name": "stdout",
     "output_type": "stream",
     "text": [
      "equilibrium equation:\n"
     ]
    },
    {
     "data": {
      "text/latex": [
       "$\\displaystyle F_e = - \\frac{\\sqrt{2} g m}{2} - 2 k_{2} z_{e}^{3} + \\left(k_{1} + 3 k_{2} z_{e}^{2}\\right) z$"
      ],
      "text/plain": [
       "<IPython.core.display.Math object>"
      ]
     },
     "metadata": {},
     "output_type": "display_data"
    },
    {
     "name": "stdout",
     "output_type": "stream",
     "text": [
      "finally, sub in ze = 0:\n"
     ]
    },
    {
     "data": {
      "text/latex": [
       "$\\displaystyle F_e = - \\frac{\\sqrt{2} g m}{2} + k_{1} z$"
      ],
      "text/plain": [
       "<IPython.core.display.Math object>"
      ]
     },
     "metadata": {},
     "output_type": "display_data"
    }
   ],
   "source": [
    "# take the taylor series approximation\n",
    "ze = sm.symbols(r'z_e', real=True)\n",
    "\n",
    "eom_equib = eom_F.subs({z: ze}) + sm.diff(eom_F, z).subs({z: ze}) * (z - ze)\n",
    "eom_equib = eom_equib.simplify()\n",
    "\n",
    "eom_equib = eom_equib.collect([z, ze])\n",
    "\n",
    "print('equilibrium equation:')\n",
    "display(Math(r'F_e = ' + vlatex(eom_equib)))\n",
    "\n",
    "print('finally, sub in ze = 0:')\n",
    "\n",
    "eom_equib = eom_equib.subs({ze: 0})\n",
    "display(Math(r'F_e = ' + vlatex(eom_equib)))"
   ]
  },
  {
   "cell_type": "markdown",
   "metadata": {},
   "source": [
    "###  2.4 (3 points) Find the transfer function of the linearized model when $z_e = 0$."
   ]
  }
 ],
 "metadata": {
  "kernelspec": {
   "display_name": "ME431_Controls",
   "language": "python",
   "name": "python3"
  },
  "language_info": {
   "codemirror_mode": {
    "name": "ipython",
    "version": 3
   },
   "file_extension": ".py",
   "mimetype": "text/x-python",
   "name": "python",
   "nbconvert_exporter": "python",
   "pygments_lexer": "ipython3",
   "version": "3.12.4"
  }
 },
 "nbformat": 4,
 "nbformat_minor": 2
}
